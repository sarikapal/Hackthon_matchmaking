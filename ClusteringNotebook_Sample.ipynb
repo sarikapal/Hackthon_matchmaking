{
 "cells": [
  {
   "cell_type": "code",
   "execution_count": 108,
   "metadata": {},
   "outputs": [],
   "source": [
    "import azureml.core\n",
    "import matplotlib.pyplot as plt\n",
    "import numpy as np\n",
    "import pandas as pd\n",
    "import sklearn\n",
    "from scipy.spatial import distance as sci_distance\n",
    "from sklearn import cluster as sk_cluster\n",
    "from azureml.core import Workspace\n",
    "import gensim\n",
    "from gensim.models import Doc2Vec\n",
    "from gensim.models.doc2vec import TaggedDocument\n",
    "from docx import Document\n",
    "from nltk import word_tokenize\n",
    "from nltk.stem import PorterStemmer\n",
    "from nltk.corpus import stopwords\n",
    "import itertools\n",
    "import requests\n",
    "import time\n",
    "from sklearn.cluster import KMeans\n",
    "import re\n",
    "from sklearn.decomposition import PCA"
   ]
  },
  {
   "cell_type": "code",
   "execution_count": 245,
   "metadata": {},
   "outputs": [],
   "source": [
    "ws = Workspace.from_config()\n",
    "#print(ws)"
   ]
  },
  {
   "cell_type": "code",
   "execution_count": 5,
   "metadata": {},
   "outputs": [],
   "source": [
    "import json\n",
    "f = open('corpus_data_new2.json','rb') \n",
    "corpusdata = json.load(f) \n",
    "corpus=[]\n",
    "filenames=[]\n",
    "for i in corpusdata:\n",
    "    corpus.append(corpusdata[i])\n",
    "    filenames.append(i)"
   ]
  },
  {
   "cell_type": "code",
   "execution_count": 21,
   "metadata": {},
   "outputs": [],
   "source": [
    "def clean_text(text):\n",
    "    '''\n",
    "    Removes default bad characters\n",
    "    '''\n",
    "#     if not (pd.isnull(text)):\n",
    "    # text = filter(lambda x: x in string.printable, text)\n",
    "    bad_chars = set([\"@\", \"+\", '/', \"'\", '\"','(',')', '', '?', '#', ',', '[',']', '%', '$', '&', '!',\"*\", \"_\", \"=\", \"}\", \"{\"])\n",
    "    for char in bad_chars:\n",
    "        text = text.replace(char, \"\")\n",
    "    text = re.sub('\\d+', \"\", text)\n",
    "    text = re.sub(\" +\", \" \", text)\n",
    "    return text"
   ]
  },
  {
   "cell_type": "code",
   "execution_count": 22,
   "metadata": {},
   "outputs": [],
   "source": [
    "def stop_and_stem(text, stem=False, stemmer = PorterStemmer()):\n",
    "    '''\n",
    "    Removes stopwords and does stemming\n",
    "    '''\n",
    "    stoplist = stopwords.words('english')\n",
    "    if stem:\n",
    "        text_stemmed = [stemmer.stem(word) for word in word_tokenize(text) if word not in stoplist and len(word) > 3]\n",
    "    else:\n",
    "        text_stemmed = [word for word in word_tokenize(text) if word not in stoplist and len(word) > 3]\n",
    "    text = ' '.join(text_stemmed)\n",
    "    return text"
   ]
  },
  {
   "cell_type": "code",
   "execution_count": 29,
   "metadata": {},
   "outputs": [],
   "source": [
    "#len(corpus)\n",
    "cleaned_corpus=[]\n",
    "#text = clean_text(text_test1)\n",
    "for i in corpus:\n",
    "    text = clean_text(i)\n",
    "    cleaned_corpus.append(stop_and_stem(text).encode('ascii','ignore').decode('unicode_escape'))"
   ]
  },
  {
   "cell_type": "code",
   "execution_count": 125,
   "metadata": {},
   "outputs": [],
   "source": []
  },
  {
   "cell_type": "code",
   "execution_count": 31,
   "metadata": {},
   "outputs": [],
   "source": [
    "#creating tagged corpus\n",
    "tagged_cr = []\n",
    "for idx, doc in enumerate(cleaned_corpus):\n",
    "    tagged_cr.append(TaggedDocument(words=doc.split(), tags=[idx]))"
   ]
  },
  {
   "cell_type": "code",
   "execution_count": 174,
   "metadata": {},
   "outputs": [
    {
     "name": "stderr",
     "output_type": "stream",
     "text": [
      "WARNING - consider setting layer size to a multiple of 4 for greater performance\n"
     ]
    }
   ],
   "source": [
    "#model prep    \n",
    "d2vec_model = gensim.models.doc2vec.Doc2Vec(vector_size=50, min_count=1, epochs=80, alpha=0.025)\n",
    "d2vec_model.build_vocab(tagged_cr)\n",
    "d2vec_model.train(tagged_cr, total_examples=d2vec_model.corpus_count, epochs=d2vec_model.epochs)"
   ]
  },
  {
   "cell_type": "code",
   "execution_count": 224,
   "metadata": {},
   "outputs": [
    {
     "data": {
      "text/plain": [
       "(38, 50)"
      ]
     },
     "execution_count": 224,
     "metadata": {},
     "output_type": "execute_result"
    }
   ],
   "source": [
    "XXX=d2vec_model.docvecs.vectors_docs\n",
    "np.shape(XXX)\n"
   ]
  },
  {
   "cell_type": "code",
   "execution_count": 235,
   "metadata": {},
   "outputs": [
    {
     "data": {
      "text/plain": [
       "(1, 50)"
      ]
     },
     "execution_count": 235,
     "metadata": {},
     "output_type": "execute_result"
    }
   ],
   "source": [
    "inferredvector=d2vec_model.infer_vector(cleaned_corpus)\n",
    "np.shape(np.matrix(inferredvector).A)\n"
   ]
  },
  {
   "cell_type": "code",
   "execution_count": 225,
   "metadata": {},
   "outputs": [],
   "source": [
    "kmeans_model = KMeans(n_clusters=3, init='k-means++', max_iter=100) \n"
   ]
  },
  {
   "cell_type": "code",
   "execution_count": 226,
   "metadata": {},
   "outputs": [],
   "source": [
    "X = kmeans_model.fit(d2vec_model.docvecs.vectors_docs)\n"
   ]
  },
  {
   "cell_type": "code",
   "execution_count": 227,
   "metadata": {},
   "outputs": [],
   "source": [
    "labels=kmeans_model.labels_.tolist()\n"
   ]
  },
  {
   "cell_type": "code",
   "execution_count": 228,
   "metadata": {},
   "outputs": [
    {
     "data": {
      "image/png": "[encoded data removed]",
      "text/plain": [
       "<Figure size 432x288 with 1 Axes>"
      ]
     },
     "metadata": {
      "needs_background": "light"
     },
     "output_type": "display_data"
    }
   ],
   "source": [
    "l = kmeans_model.fit_predict(d2vec_model.docvecs.vectors_docs)\n",
    "pca = PCA(n_components=2).fit(d2vec_model.docvecs.vectors_docs)\n",
    "datapoint = pca.transform(d2vec_model.docvecs.vectors_docs)\n",
    "%matplotlib inline\n",
    "plt.figure\n",
    "label1 = ['#FFFF00', '#008000', '#0000FF']\n",
    "color = [label1[i] for i in labels]\n",
    "plt.scatter(datapoint[:, 0], datapoint[:, 1], c=color)\n",
    "centroids = kmeans_model.cluster_centers_\n",
    "centroidpoint = pca.transform(centroids)\n",
    "plt.scatter(centroidpoint[:, 0], centroidpoint[:, 1], marker='^', s=150, c='#000000')\n",
    "plt.show()"
   ]
  },
  {
   "cell_type": "code",
   "execution_count": 236,
   "metadata": {},
   "outputs": [
    {
     "data": {
      "text/plain": [
       "array([2], dtype=int32)"
      ]
     },
     "execution_count": 236,
     "metadata": {},
     "output_type": "execute_result"
    }
   ],
   "source": [
    "kmeans_model.predict(np.matrix(inferredvector).A)"
   ]
  },
  {
   "cell_type": "code",
   "execution_count": 147,
   "metadata": {},
   "outputs": [],
   "source": [
    "from azureml.core import Experiment\n",
    "experiment_name = 'ClusteringResumes'\n",
    "experiment = Experiment(workspace = ws, name = experiment_name)"
   ]
  },
  {
   "cell_type": "code",
   "execution_count": 184,
   "metadata": {},
   "outputs": [],
   "source": [
    "os.mkdir('output')"
   ]
  },
  {
   "cell_type": "code",
   "execution_count": 187,
   "metadata": {},
   "outputs": [
    {
     "data": {
      "text/plain": [
       "['output/kmeans.pkl']"
      ]
     },
     "execution_count": 187,
     "metadata": {},
     "output_type": "execute_result"
    }
   ],
   "source": [
    "import joblib\n",
    "joblib.dump(value=d2vec_model, filename='output/doc2vecgensim.pkl')\n",
    "joblib.dump(value=kmeans_model, filename='output/kmeans.pkl')"
   ]
  },
  {
   "cell_type": "markdown",
   "metadata": {},
   "source": [
    "### Registering Model"
   ]
  },
  {
   "cell_type": "code",
   "execution_count": 188,
   "metadata": {},
   "outputs": [
    {
     "name": "stdout",
     "output_type": "stream",
     "text": [
      "Registering model doc2vecgensim.pkl\n",
      "Registering model kmeansmodel.pkl\n"
     ]
    }
   ],
   "source": [
    "from azureml.core.model import Model\n",
    "\n",
    "doc2vecmodel = Model.register(workspace=ws,model_name='doc2vecgensim.pkl', model_path='output/doc2vecgensim.pkl')\n",
    "kmeansmodel = Model.register(workspace=ws,model_name='kmeansmodel.pkl', model_path='output/kmeans.pkl')"
   ]
  },
  {
   "cell_type": "markdown",
   "metadata": {},
   "source": [
    "### Scoring Script"
   ]
  },
  {
   "cell_type": "code",
   "execution_count": 237,
   "metadata": {},
   "outputs": [
    {
     "name": "stdout",
     "output_type": "stream",
     "text": [
      "Writing score_clustering.py\n"
     ]
    }
   ],
   "source": [
    "%%writefile score_clustering.py\n",
    "\n",
    "import json\n",
    "import numpy as np\n",
    "from azureml.core.model import Model\n",
    "import pandas as pd\n",
    "import joblib\n",
    "from sklearn.cluster import KMeans\n",
    "import gensim\n",
    "from gensim.models import Doc2Vec\n",
    "from gensim.models.doc2vec import TaggedDocument\n",
    "from nltk import word_tokenize\n",
    "from nltk.stem import PorterStemmer\n",
    "from nltk.corpus import stopwords\n",
    "import itertools\n",
    "import azureml.core\n",
    "import re\n",
    "\n",
    "def init():\n",
    "    global model\n",
    "    doc2vecmodel_path = Model.get_model_path(model_name='doc2vecgensim.pkl')\n",
    "    doc2vecmodel = joblib.load(doc2vecmodel_path)\n",
    "    kmeansmodel_path = Model.get_model_path(model_name='kmeansmodel.pkl')\n",
    "    kmeansmodel = joblib.load(kmeansmodel_path)  \n",
    "def clean_text(text):\n",
    "    '''\n",
    "    Removes default bad characters\n",
    "    '''\n",
    "    bad_chars = set([\"@\", \"+\", '/', \"'\", '\"','(',')', '', '?', '#', ',', '[',']', '%', '$', '&', '!',\"*\", \"_\", \"=\", \"}\", \"{\"])\n",
    "    for char in bad_chars:\n",
    "        text = text.replace(char, \"\")\n",
    "    text = re.sub('\\d+', \"\", text)\n",
    "    text = re.sub(\" +\", \" \", text)\n",
    "    return text\n",
    "\n",
    "def stop_and_stem(text, stem=False, stemmer = PorterStemmer()):\n",
    "    '''\n",
    "    Removes stopwords and does stemming\n",
    "    '''\n",
    "    stoplist = stopwords.words('english')\n",
    "    if stem:\n",
    "        text_stemmed = [stemmer.stem(word) for word in word_tokenize(text) if word not in stoplist and len(word) > 3]\n",
    "    else:\n",
    "        text_stemmed = [word for word in word_tokenize(text) if word not in stoplist and len(word) > 3]\n",
    "    text = ' '.join(text_stemmed)\n",
    "    return text\n",
    "\n",
    "def run(raw_data):\n",
    "    try:\n",
    "        text=[]\n",
    "        data = json.loads(raw_data)['data']\n",
    "        text.append(stop_and_stem(clean_text(data)))\n",
    "        inferredvector=doc2vecmodel.infer_vector(text)\n",
    "        result=kmeansmodel.predict(np.matrix(inferredvector).A)\n",
    "        return result.tolist()\n",
    "    except Exception as e:\n",
    "        result = str(e)\n",
    "        return result\n"
   ]
  },
  {
   "cell_type": "code",
   "execution_count": null,
   "metadata": {},
   "outputs": [],
   "source": []
  },
  {
   "cell_type": "code",
   "execution_count": 239,
   "metadata": {},
   "outputs": [],
   "source": [
    "from azureml.core.conda_dependencies import CondaDependencies\n",
    "from azureml.core.environment import Environment\n",
    "from azureml.core.model import InferenceConfig\n",
    "\n",
    "env = Environment('deploytocloud')\n",
    "env.python.conda_dependencies = CondaDependencies.create(conda_packages=['scikit-learn'],pip_packages=['azureml-defaults','gensim','joblib','nltk'])\n",
    "inference_config = InferenceConfig(entry_script=\"score_clustering.py\", environment=env)"
   ]
  },
  {
   "cell_type": "code",
   "execution_count": 238,
   "metadata": {},
   "outputs": [],
   "source": [
    "from azureml.core.webservice import AciWebservice\n",
    "\n",
    "aciconfig = AciWebservice.deploy_configuration(cpu_cores=1, \n",
    "                                               memory_gb=1, \n",
    "                                               tags={'sample name': 'clustering'}, \n",
    "                                               description='This is a great example.')\n",
    "\n"
   ]
  },
  {
   "cell_type": "code",
   "execution_count": 240,
   "metadata": {},
   "outputs": [
    {
     "name": "stdout",
     "output_type": "stream",
     "text": [
      "Running..........................................................................................\n",
      "Succeeded\n",
      "ACI service creation operation finished, operation \"Succeeded\"\n",
      "CPU times: user 8.2 s, sys: 4.24 s, total: 12.4 s\n",
      "Wall time: 7min 50s\n"
     ]
    }
   ],
   "source": [
    "%%time\n",
    "from azureml.core.model import Model\n",
    "from azureml.core.webservice import Webservice\n",
    "\n",
    "# Create the webservice using all of the precreated configurations and our best model\n",
    "service = Model.deploy(workspace=ws,\n",
    "                       name='clustering-resume',\n",
    "                       models=[doc2vecmodel,kmeansmodel],\n",
    "                       inference_config=inference_config,\n",
    "                       deployment_config=aciconfig)\n",
    "\n",
    "# Wait for the service deployment to complete while displaying log output\n",
    "service.wait_for_deployment(show_output=True)"
   ]
  },
  {
   "cell_type": "markdown",
   "metadata": {},
   "source": [
    "### Handling large files and using external compute"
   ]
  },
  {
   "cell_type": "code",
   "execution_count": 242,
   "metadata": {},
   "outputs": [],
   "source": [
    "blob_datastore_name='ExtractedResume' # Name of the datastore to workspace\n",
    "container_name=os.getenv(\"BLOB_CONTAINER\", \"\") # Name of Azure blob container\n",
    "account_name=os.getenv(\"BLOB_ACCOUNTNAME\", \"\") # Storage account name\n",
    "account_key=os.getenv(\"BLOB_ACCOUNT_KEY\", \"\") # Storage account key\n",
    "\n",
    "blob_datastore = Datastore.register_azure_blob_container(workspace=ws, \n",
    "                                                         datastore_name=blob_datastore_name, \n",
    "                                                         container_name=container_name, \n",
    "                                                         account_name=account_name,\n",
    "                                                         account_key=account_key)"
   ]
  },
  {
   "cell_type": "code",
   "execution_count": null,
   "metadata": {},
   "outputs": [],
   "source": [
    "datastore = Datastore.get(ws, blob_datastore_name)\n",
    "datastore_paths = [(datastore, 'ExtractedResume')] ### name of the folder which contains extracted resume\n",
    "resumes = Dataset.File.from_files(path=datastore_paths)\n"
   ]
  },
  {
   "cell_type": "code",
   "execution_count": null,
   "metadata": {},
   "outputs": [],
   "source": [
    "from azureml.core.compute import ComputeTarget, AmlCompute\n",
    "from azureml.core.compute_target import ComputeTargetException\n",
    "\n",
    "# Choose a name for your CPU cluster\n",
    "cpu_cluster_name = \"cpucluster\"\n",
    "\n",
    "# Verify that cluster does not exist already\n",
    "try:\n",
    "    cpu_cluster = ComputeTarget(workspace=ws, name=cpu_cluster_name)\n",
    "    print('Found existing cluster, use it.')\n",
    "except ComputeTargetException:\n",
    "    compute_config = AmlCompute.provisioning_configuration(vm_size='STANDARD_D2_V2',\n",
    "                                                           max_nodes=4)\n",
    "    cpu_cluster = ComputeTarget.create(ws, cpu_cluster_name, compute_config)\n",
    "\n",
    "cpu_cluster.wait_for_completion(show_output=True)"
   ]
  },
  {
   "cell_type": "code",
   "execution_count": null,
   "metadata": {},
   "outputs": [],
   "source": [
    "#### Create a train script, train.py; make a directory \"clusteringresume\" and copy the train script to this directory"
   ]
  },
  {
   "cell_type": "code",
   "execution_count": null,
   "metadata": {},
   "outputs": [],
   "source": [
    "from azureml.train.estimator import Estimator\n",
    "\n",
    "#script_params = {\n",
    "    # to mount files referenced by mnist dataset\n",
    "    #'--data-folder':dfpath.as_named_input('creditcard').as_mount()\n",
    "    #'--regularization': 0.8\n",
    "#}\n",
    "\n",
    "sk_est = Estimator(source_directory='./clusteringresume',\n",
    "                   #script_params=script_params,\n",
    "                   inputs=[resumes.as_named_input('extractedresume')],\n",
    "                   compute_target=cpu_cluster_name,\n",
    "                   entry_script='train.py',\n",
    "                   conda_packages=['scikit-learn'], pip_packages=['joblib','nltk','gensim'])"
   ]
  },
  {
   "cell_type": "code",
   "execution_count": null,
   "metadata": {},
   "outputs": [],
   "source": [
    "run = experiment.submit(sk_est)\n",
    "print(run.get_portal_url())"
   ]
  },
  {
   "cell_type": "code",
   "execution_count": null,
   "metadata": {},
   "outputs": [],
   "source": [
    "run.wait_for_completion(show_output = True)"
   ]
  },
  {
   "cell_type": "code",
   "execution_count": null,
   "metadata": {},
   "outputs": [],
   "source": [
    "run.get_details()\n",
    "run.get_file_names()"
   ]
  },
  {
   "cell_type": "code",
   "execution_count": null,
   "metadata": {},
   "outputs": [],
   "source": [
    "os.makedirs('./model', exist_ok=True)\n",
    "\n",
    "for f in run.get_file_names():\n",
    "    if f.startswith(' '):## fill in the name of the model file as mentioned in trainings script\n",
    "        output_file_path = os.path.join('./model', f.split('/')[-1])\n",
    "        print('Downloading from {} to {} ...'.format(f, output_file_path))\n",
    "        run.download_file(name=f, output_file_path=output_file_path)"
   ]
  },
  {
   "cell_type": "code",
   "execution_count": 243,
   "metadata": {},
   "outputs": [],
   "source": [
    "##### Continue with the same script from \"Registering Model\""
   ]
  },
  {
   "cell_type": "code",
   "execution_count": null,
   "metadata": {},
   "outputs": [],
   "source": []
  }
 ],
 "metadata": {
  "kernelspec": {
   "display_name": "Python 3.6 - AzureML",
   "language": "python",
   "name": "python3-azureml"
  },
  "language_info": {
   "codemirror_mode": {
    "name": "ipython",
    "version": 3
   },
   "file_extension": ".py",
   "mimetype": "text/x-python",
   "name": "python",
   "nbconvert_exporter": "python",
   "pygments_lexer": "ipython3",
   "version": "3.6.9"
  }
 },
 "nbformat": 4,
 "nbformat_minor": 2
}
